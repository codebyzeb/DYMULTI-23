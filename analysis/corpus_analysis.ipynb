{
 "metadata": {
  "language_info": {
   "codemirror_mode": {
    "name": "ipython",
    "version": 3
   },
   "file_extension": ".py",
   "mimetype": "text/x-python",
   "name": "python",
   "nbconvert_exporter": "python",
   "pygments_lexer": "ipython3",
   "version": "3.9.1"
  },
  "orig_nbformat": 2,
  "kernelspec": {
   "name": "python391jvsc74a57bd01e8db04b6222e005183a25ca661b7fa6df7c615864ec3c86b7d4844b2aa66417",
   "display_name": "Python 3.9.1 64-bit ('wordseg': conda)"
  }
 },
 "nbformat": 4,
 "nbformat_minor": 2,
 "cells": [
  {
   "source": [
    "# Corpus Analysis"
   ],
   "cell_type": "markdown",
   "metadata": {}
  },
  {
   "cell_type": "code",
   "execution_count": 4,
   "metadata": {},
   "outputs": [],
   "source": [
    "import os\n",
    "import collections\n",
    "import numpy as np"
   ]
  },
  {
   "cell_type": "code",
   "execution_count": 3,
   "metadata": {},
   "outputs": [],
   "source": [
    "CHILDES_PHONEMIZED = \"../../Corpora/CHILDES_wordseg/phonemized/\"\n",
    "CHILDES_FILES = [CHILDES_PHONEMIZED+file for file in os.listdir(CHILDES_PHONEMIZED) if \".txt\" in file]\n",
    "CHILDES_FILES.sort()\n",
    "\n",
    "BR_FILE = \"../data/br-phonemes.txt\""
   ]
  },
  {
   "cell_type": "code",
   "execution_count": 33,
   "metadata": {},
   "outputs": [],
   "source": [
    "def get_phones(files):\n",
    "    phones = []\n",
    "    for file in files:\n",
    "        f = open(file, 'r').readlines()\n",
    "        for line in f:\n",
    "            for p in line.strip().split(' '):\n",
    "                if not p in phones and p != ';eword':\n",
    "                    phones.append(p)\n",
    "    return phones\n",
    "\n",
    "def find_phone(phone):\n",
    "    for file in all_files:\n",
    "        if phone in get_phones([file]):\n",
    "            print(file)"
   ]
  },
  {
   "cell_type": "code",
   "execution_count": 70,
   "metadata": {},
   "outputs": [],
   "source": [
    "LANGUAGES = [\"Basque\", \"Cantonese\", \"Croatian\", \"Danish\", \"Dutch\", \"English\", \"Estonian\", \"Farsi\", \"French\", \"German\", \"Greek\", \"Hungarian\", \"Icelandic\", \"Indonesian\", \"Irish\", \"Italian\", \"Japanese\", \"Korean\", \"Mandarin\", \"Norwegian\", \"Portuguese\", \"Romanian\", \"Serbian\", \"Spanish\", \"Swedish\", \"Turkish\"]\n",
    "CHILDES_FILES_USED = [list(filter(lambda x : language in x, CHILDES_FILES))[0] for language in LANGUAGES]"
   ]
  },
  {
   "cell_type": "code",
   "execution_count": 2,
   "metadata": {},
   "outputs": [],
   "source": [
    "def get_type_token_ratio(file):\n",
    "    f = open(file, 'r').readlines()\n",
    "    types = collections.Counter()\n",
    "    for line in f:\n",
    "        words = [word.strip().split(' ') for word in line.split(';eword')]\n",
    "        word_strs = [''.join(word) for word in words if word != [] and word != ['']]\n",
    "        types.update(word_strs)\n",
    "    return len(types)/sum(types[k] for k in types)\n",
    "\n",
    "def get_phones_per_word(file):\n",
    "    f = open(file, 'r').readlines()\n",
    "    lengths = collections.Counter()\n",
    "    for line in f:\n",
    "        words = [word.strip().split(' ') for word in line.split(';eword')]\n",
    "        word_lengths = [len(word) for word in words if word != [] and word != ['']]\n",
    "        lengths.update(word_lengths)\n",
    "    return sum([k * lengths[k] for k in lengths])/sum([lengths[k] for k in lengths])"
   ]
  },
  {
   "cell_type": "code",
   "execution_count": 77,
   "metadata": {},
   "outputs": [
    {
     "output_type": "stream",
     "name": "stdout",
     "text": [
      "3.7085392993357003 0.6808417183682755\n"
     ]
    }
   ],
   "source": [
    "ppw = np.array([get_phones_per_word(CHILDES_FILES_USED[i]) for i in range(len(CHILDES_FILES_USED))])\n",
    "print(np.mean(ppw), np.std(ppw))"
   ]
  },
  {
   "cell_type": "code",
   "execution_count": 5,
   "metadata": {},
   "outputs": [
    {
     "output_type": "error",
     "ename": "NameError",
     "evalue": "name 'CHILDES_FILES_USED' is not defined",
     "traceback": [
      "\u001b[0;31m---------------------------------------------------------------------------\u001b[0m",
      "\u001b[0;31mNameError\u001b[0m                                 Traceback (most recent call last)",
      "\u001b[0;32m<ipython-input-5-5f3a3ae9e37d>\u001b[0m in \u001b[0;36m<module>\u001b[0;34m\u001b[0m\n\u001b[0;32m----> 1\u001b[0;31m \u001b[0mttrs\u001b[0m \u001b[0;34m=\u001b[0m \u001b[0mnp\u001b[0m\u001b[0;34m.\u001b[0m\u001b[0marray\u001b[0m\u001b[0;34m(\u001b[0m\u001b[0;34m[\u001b[0m\u001b[0mget_type_token_ratio\u001b[0m\u001b[0;34m(\u001b[0m\u001b[0mCHILDES_FILES_USED\u001b[0m\u001b[0;34m[\u001b[0m\u001b[0mi\u001b[0m\u001b[0;34m]\u001b[0m\u001b[0;34m)\u001b[0m \u001b[0;32mfor\u001b[0m \u001b[0mi\u001b[0m \u001b[0;32min\u001b[0m \u001b[0mrange\u001b[0m\u001b[0;34m(\u001b[0m\u001b[0mlen\u001b[0m\u001b[0;34m(\u001b[0m\u001b[0mCHILDES_FILES_USED\u001b[0m\u001b[0;34m)\u001b[0m\u001b[0;34m)\u001b[0m\u001b[0;34m]\u001b[0m\u001b[0;34m)\u001b[0m\u001b[0;34m\u001b[0m\u001b[0;34m\u001b[0m\u001b[0m\n\u001b[0m\u001b[1;32m      2\u001b[0m \u001b[0mprint\u001b[0m\u001b[0;34m(\u001b[0m\u001b[0mnp\u001b[0m\u001b[0;34m.\u001b[0m\u001b[0mmean\u001b[0m\u001b[0;34m(\u001b[0m\u001b[0mttrs\u001b[0m\u001b[0;34m)\u001b[0m\u001b[0;34m,\u001b[0m \u001b[0mnp\u001b[0m\u001b[0;34m.\u001b[0m\u001b[0mstd\u001b[0m\u001b[0;34m(\u001b[0m\u001b[0mttrs\u001b[0m\u001b[0;34m)\u001b[0m\u001b[0;34m)\u001b[0m\u001b[0;34m\u001b[0m\u001b[0;34m\u001b[0m\u001b[0m\n",
      "\u001b[0;31mNameError\u001b[0m: name 'CHILDES_FILES_USED' is not defined"
     ]
    }
   ],
   "source": [
    "ttrs = np.array([get_type_token_ratio(CHILDES_FILES_USED[i]) for i in range(len(CHILDES_FILES_USED))])\n",
    "print(np.mean(ttrs), np.std(ttrs))"
   ]
  },
  {
   "cell_type": "code",
   "execution_count": 6,
   "metadata": {},
   "outputs": [
    {
     "output_type": "stream",
     "name": "stdout",
     "text": [
      "0.039668034874314646\n"
     ]
    }
   ],
   "source": [
    "print(get_type_token_ratio(BR_FILE))"
   ]
  },
  {
   "cell_type": "code",
   "execution_count": null,
   "metadata": {},
   "outputs": [],
   "source": []
  }
 ]
}